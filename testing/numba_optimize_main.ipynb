{
 "cells": [
  {
   "cell_type": "code",
   "execution_count": 1,
   "metadata": {},
   "outputs": [],
   "source": [
    "!rmdir /s /q __pycache__\n",
    "import timeit"
   ]
  },
  {
   "cell_type": "code",
   "execution_count": 2,
   "metadata": {},
   "outputs": [],
   "source": [
    "SETUP_CODE=\"\"\"\n",
    "from numba_optimize_functions import load_dataset, preprocess_data, logistic_regression, logistic_regression_partialnumba, logistic_regression_numba, logistic_regression_nopred_numba, epoch_numba\n",
    "trainX, trainY, testX, testY, classes = load_dataset()\n",
    "trainX, testX = preprocess_data(trainX, testX)\n",
    "\"\"\"\n",
    "\n",
    "EPOCH_NUMBA_CODE=\"\"\"\n",
    "model = logistic_regression(trainX, trainY, num_epochs = 2000, learning_rate = 0.005, print_cost = False, epoch_fun=epoch_numba)\n",
    "\"\"\"\n",
    "EPOCH_PREDICT_NUMBA_CODE=\"\"\"\n",
    "model = logistic_regression_partialnumba(trainX, trainY, num_epochs = 2000, learning_rate = 0.005, print_cost = False, epoch_fun=epoch_numba)\n",
    "\"\"\"\n",
    "\n",
    "WHOLE_NUMBA_CODE=\"\"\"\n",
    "model = logistic_regression_numba(trainX, trainY, num_epochs = 2000, learning_rate = 0.005, print_cost = False, epoch_fun=epoch_numba)\n",
    "\"\"\"\n",
    "\n",
    "WHOLE_NUMBA_nopred_CODE=\"\"\"\n",
    "model = logistic_regression_nopred_numba(trainX, trainY, num_epochs = 2000, learning_rate = 0.005, print_cost = False, epoch_fun=epoch_numba)\n",
    "\"\"\"\n"
   ]
  },
  {
   "cell_type": "code",
   "execution_count": 3,
   "metadata": {},
   "outputs": [
    {
     "name": "stdout",
     "output_type": "stream",
     "text": [
      "Time epoch numba code: 3.7236228799999997\n",
      "Time partial numba code: 3.150402100000001\n",
      "Time numba code: 3.0058555799999995\n",
      "Time numba nopred code: 3.3884179599999995\n"
     ]
    }
   ],
   "source": [
    "n=10 # number of executions\n",
    "time_epoch_numba = timeit.timeit(setup=SETUP_CODE, stmt=EPOCH_NUMBA_CODE, number=n)\n",
    "time_partial_numba = timeit.timeit(setup=SETUP_CODE, stmt=EPOCH_PREDICT_NUMBA_CODE, number=n)\n",
    "time_numba = timeit.timeit(setup=SETUP_CODE, stmt=WHOLE_NUMBA_CODE, number=n)\n",
    "time_numba_nopred = timeit.timeit(setup=SETUP_CODE, stmt=WHOLE_NUMBA_nopred_CODE, number=n)\n",
    "\n",
    "print(f\"Time epoch numba code: {time_epoch_numba/n}\")\n",
    "print(f\"Time partial numba code: {time_partial_numba/n}\")\n",
    "print(f\"Time numba code: {time_numba/n}\")\n",
    "print(f\"Time numba nopred code: {time_numba_nopred/n}\")"
   ]
  },
  {
   "cell_type": "code",
   "execution_count": 4,
   "metadata": {},
   "outputs": [
    {
     "name": "stdout",
     "output_type": "stream",
     "text": [
      "Time epoch numba code: 3.158409039999998\n",
      "Time partial numba code: 3.027857260000002\n",
      "Time numba code: 2.971126510000005\n",
      "Time numba nopred code: 2.9385320800000043\n"
     ]
    }
   ],
   "source": [
    "n=10 # number of executions\n",
    "r=4 # number of repetitions\n",
    "time_epoch_numba = timeit.repeat(setup=SETUP_CODE, stmt=EPOCH_NUMBA_CODE, repeat=r, number=n)\n",
    "time_partial_numba = timeit.repeat(setup=SETUP_CODE, stmt=EPOCH_PREDICT_NUMBA_CODE, repeat=r, number=n)\n",
    "time_numba = timeit.repeat(setup=SETUP_CODE, stmt=WHOLE_NUMBA_CODE, repeat=r, number=n)\n",
    "time_numba_nopred = timeit.repeat(setup=SETUP_CODE, stmt=WHOLE_NUMBA_nopred_CODE, repeat=r, number=n)\n",
    "\n",
    "print(f\"Time epoch numba code: {min(time_epoch_numba)/n}\")\n",
    "print(f\"Time partial numba code: {min(time_partial_numba)/n}\")\n",
    "print(f\"Time numba code: {min(time_numba)/n}\")\n",
    "print(f\"Time numba nopred code: {min(time_numba_nopred)/n}\")"
   ]
  },
  {
   "cell_type": "code",
   "execution_count": 5,
   "metadata": {},
   "outputs": [
    {
     "name": "stdout",
     "output_type": "stream",
     "text": [
      "Time epoch numba code: [32.891856700000005, 31.58409039999998, 32.2475101, 36.33185979999999]\n",
      "Time partial numba code: [30.278572600000018, 33.14986589999995, 30.923909399999957, 30.60305169999998]\n",
      "Time numba code: [29.71126510000005, 29.97035870000002, 30.028502800000012, 30.07956029999997]\n",
      "Time numba nopred code: [29.385320800000045, 29.757970200000045, 29.652465099999972, 29.761083499999927]\n"
     ]
    }
   ],
   "source": [
    "print(f\"Time epoch numba code: {time_epoch_numba}\")\n",
    "print(f\"Time partial numba code: {time_partial_numba}\")\n",
    "print(f\"Time numba code: {time_numba}\")\n",
    "print(f\"Time numba nopred code: {time_numba_nopred}\")"
   ]
  },
  {
   "cell_type": "code",
   "execution_count": null,
   "metadata": {},
   "outputs": [],
   "source": [
    "# from numba_optimize_functions import load_dataset, preprocess_data, logistic_regression, logistic_regression_partialnumba, logistic_regression_numba, logistic_regression_nopred_numba, epoch_numba\n",
    "# trainX, trainY, testX, testY, classes = load_dataset()\n",
    "# trainX, testX = preprocess_data(trainX, testX)"
   ]
  },
  {
   "cell_type": "code",
   "execution_count": null,
   "metadata": {},
   "outputs": [],
   "source": [
    "# %%time\n",
    "# model = logistic_regression_numba(trainX, trainY, num_epochs = 2000, learning_rate = 0.005, print_cost = False, epoch_fun=epoch_numba)"
   ]
  }
 ],
 "metadata": {
  "kernelspec": {
   "display_name": "myenv",
   "language": "python",
   "name": "python3"
  },
  "language_info": {
   "codemirror_mode": {
    "name": "ipython",
    "version": 3
   },
   "file_extension": ".py",
   "mimetype": "text/x-python",
   "name": "python",
   "nbconvert_exporter": "python",
   "pygments_lexer": "ipython3",
   "version": "3.9.19"
  }
 },
 "nbformat": 4,
 "nbformat_minor": 2
}
