{
 "cells": [
  {
   "cell_type": "code",
   "execution_count": 1,
   "metadata": {},
   "outputs": [],
   "source": [
    "!rmdir /s /q __pycache__\n",
    "import timeit"
   ]
  },
  {
   "cell_type": "code",
   "execution_count": 2,
   "metadata": {},
   "outputs": [],
   "source": [
    "SETUP_CODE=\"\"\"\n",
    "from numpy_optimize_functions import load_dataset, preprocess_data, logistic_regression, epoch_2for, epoch_for, epoch, epoch_alt_for\n",
    "trainX, trainY, testX, testY, classes = load_dataset()\n",
    "trainX, testX = preprocess_data(trainX, testX)\n",
    "\"\"\"\n",
    "UNOPTIMIZED_CODE=\"\"\"\n",
    "model = logistic_regression(trainX, trainY, num_epochs = 2000, learning_rate = 0.005, print_cost = False, epoch_fun=epoch_2for)\n",
    "\"\"\"\n",
    "\n",
    "PARTIAL_OPTIMIZED_CODE=\"\"\"\n",
    "model = logistic_regression(trainX, trainY, num_epochs = 2000, learning_rate = 0.005, print_cost = False, epoch_fun=epoch_for)\n",
    "\"\"\"\n",
    "\n",
    "OPTIMIZED_CODE=\"\"\"\n",
    "model = logistic_regression(trainX, trainY, num_epochs = 2000, learning_rate = 0.005, print_cost = False, epoch_fun=epoch)\n",
    "\"\"\"\n",
    "\n",
    "ALT_CODE=\"\"\"\n",
    "model = logistic_regression(trainX, trainY, num_epochs = 2000, learning_rate = 0.005, print_cost = False, epoch_fun=epoch_alt_for)\n",
    "\"\"\""
   ]
  },
  {
   "cell_type": "code",
   "execution_count": 3,
   "metadata": {},
   "outputs": [
    {
     "name": "stdout",
     "output_type": "stream",
     "text": [
      "Time partially optimized code: 19.81137224\n",
      "Time optimized code: 4.03123349\n"
     ]
    }
   ],
   "source": [
    "n=10 # number of executions\n",
    "# time_unopt = timeit.timeit(setup=SETUP_CODE, stmt=UNOPTIMIZED_CODE, number=n)\n",
    "time_p_opt = timeit.timeit(setup=SETUP_CODE, stmt=PARTIAL_OPTIMIZED_CODE, number=n)\n",
    "time_opt = timeit.timeit(setup=SETUP_CODE, stmt=OPTIMIZED_CODE, number=n)\n",
    "# time_alt_for = timeit.timeit(setup=SETUP_CODE, stmt=ALT_CODE, number=n)\n",
    "\n",
    "# print(f\"Time unoptimized code: {time_unopt/n}\")\n",
    "print(f\"Time partially optimized code: {time_p_opt/n}\")\n",
    "print(f\"Time optimized code: {time_opt/n}\")\n",
    "# print(f\"Time alt code: {time_alt_for/n}\")"
   ]
  },
  {
   "cell_type": "code",
   "execution_count": 4,
   "metadata": {},
   "outputs": [
    {
     "name": "stdout",
     "output_type": "stream",
     "text": [
      "Time partially optimized code: 19.14295975\n",
      "Time optimized code: 3.3191230799999856\n"
     ]
    }
   ],
   "source": [
    "n=10 # number of executions\n",
    "r=4 # number of repetitions\n",
    "# time_unopt = timeit.repeat(setup=SETUP_CODE, stmt=UNOPTIMIZED_CODE, repeat=r, number=n)\n",
    "time_p_opt = timeit.repeat(setup=SETUP_CODE, stmt=PARTIAL_OPTIMIZED_CODE, repeat=r, number=n)\n",
    "time_opt = timeit.repeat(setup=SETUP_CODE, stmt=OPTIMIZED_CODE, repeat=r, number=n)\n",
    "# time_alt_for = timeit.repeat(setup=SETUP_CODE, stmt=ALT_CODE, repeat=r, number=n)\n",
    "\n",
    "# print(f\"Time unoptimized code: {time_unopt/n}\")\n",
    "print(f\"Time partially optimized code: {min(time_p_opt)/n}\")\n",
    "print(f\"Time optimized code: {min(time_opt)/n}\")\n",
    "# print(f\"Time alt code: {min(time_alt_for)/n}\")"
   ]
  },
  {
   "cell_type": "code",
   "execution_count": 5,
   "metadata": {},
   "outputs": [
    {
     "name": "stdout",
     "output_type": "stream",
     "text": [
      "Time partially optimized code: [196.94899150000003, 194.04618930000004, 191.4295975, 195.22575870000003]\n",
      "Time optimized code: [33.19123079999986, 33.3433528999999, 33.835546999999906, 34.7697784999998]\n"
     ]
    }
   ],
   "source": [
    "# print(f\"Time unoptimized code: {time_unopt/n}\")\n",
    "print(f\"Time partially optimized code: {time_p_opt}\")\n",
    "print(f\"Time optimized code: {time_opt}\")\n",
    "# print(f\"Time alt code: {time_alt_for}\")"
   ]
  },
  {
   "cell_type": "code",
   "execution_count": null,
   "metadata": {},
   "outputs": [],
   "source": [
    "# from numpy_optimize_functions import load_dataset, preprocess_data, logistic_regression, epoch_2for, epoch_for, epoch, epoch_alt_for\n",
    "# trainX, trainY, testX, testY, classes = load_dataset()\n",
    "# trainX, testX = preprocess_data(trainX, testX)"
   ]
  },
  {
   "cell_type": "code",
   "execution_count": null,
   "metadata": {},
   "outputs": [],
   "source": [
    "# %%time\n",
    "# model = logistic_regression(trainX, trainY, num_epochs = 2000, learning_rate = 0.005, print_cost = False, epoch_fun=epoch)"
   ]
  }
 ],
 "metadata": {
  "kernelspec": {
   "display_name": "myenv",
   "language": "python",
   "name": "python3"
  },
  "language_info": {
   "codemirror_mode": {
    "name": "ipython",
    "version": 3
   },
   "file_extension": ".py",
   "mimetype": "text/x-python",
   "name": "python",
   "nbconvert_exporter": "python",
   "pygments_lexer": "ipython3",
   "version": "3.9.19"
  }
 },
 "nbformat": 4,
 "nbformat_minor": 2
}
