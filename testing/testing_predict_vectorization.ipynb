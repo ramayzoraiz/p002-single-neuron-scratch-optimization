{
 "cells": [
  {
   "cell_type": "code",
   "execution_count": 1,
   "metadata": {},
   "outputs": [],
   "source": [
    "import timeit"
   ]
  },
  {
   "cell_type": "code",
   "execution_count": 2,
   "metadata": {},
   "outputs": [],
   "source": [
    "SETUP_CODE=\"\"\"\n",
    "import numpy as np\n",
    "import timeit\n",
    "A=np.ones((1,40))*0.6\n",
    "Y_prediction=np.ones((1,40))*2\n",
    "\"\"\"\n",
    "CODE1=\"\"\"\n",
    "Y_prediction=(A >0.5).astype(int)\n",
    "\"\"\"\n",
    "\n",
    "CODE2=\"\"\"\n",
    "Y_prediction[A >0.5] = 1\n",
    "Y_prediction[A <=0.5] = 0\n",
    "\"\"\"\n",
    "\n",
    "CODE3=\"\"\"\n",
    "for i in range(A.shape[1]):\n",
    "    # Convert probabilities A[0,i] to actual predictions p[0,i]\n",
    "    if A[0, i] > 0.5 :\n",
    "        Y_prediction[0,i] = 1\n",
    "    else:\n",
    "        Y_prediction[0,i] = 0\n",
    "\"\"\"\n"
   ]
  },
  {
   "cell_type": "code",
   "execution_count": 3,
   "metadata": {},
   "outputs": [
    {
     "name": "stdout",
     "output_type": "stream",
     "text": [
      "Time code1: [1.0139418000000004, 1.0250909000000004, 1.0190474000000016, 1.0173682999999993, 1.019007799999999]\n",
      "Time code1: 1.0139418000000004\n",
      "Time code2: [1.9506288000000005, 1.9868854000000002, 1.9535188999999988, 1.9374628999999999, 1.931759699999997]\n",
      "Time code2: 1.931759699999997\n",
      "Time code3: [6.4221243, 6.960920900000001, 6.846837899999997, 6.720012299999993, 6.815309800000001]\n",
      "Time code3: 6.4221243\n"
     ]
    }
   ],
   "source": [
    "time_code1 = timeit.repeat(setup=SETUP_CODE, stmt=CODE1, repeat=5, number=1000000)\n",
    "print(f\"Time code1: {time_code1}\")\n",
    "print(f\"Time code1: {min(time_code1)}\")\n",
    "time_code2 = timeit.repeat(setup=SETUP_CODE, stmt=CODE2, repeat=5, number=1000000)\n",
    "print(f\"Time code2: {time_code2}\")\n",
    "print(f\"Time code2: {min(time_code2)}\")\n",
    "time_code3 = timeit.repeat(setup=SETUP_CODE, stmt=CODE3, repeat=5, number=1000000)\n",
    "print(f\"Time code3: {time_code3}\")\n",
    "print(f\"Time code3: {min(time_code3)}\")"
   ]
  },
  {
   "cell_type": "code",
   "execution_count": 6,
   "metadata": {},
   "outputs": [],
   "source": [
    "SETUP_CODE=\"\"\"\n",
    "import numpy as np\n",
    "import timeit\n",
    "from numba import njit\n",
    "A=np.ones((1,40))*0.6\n",
    "Y_prediction=np.ones((1,40))*2\n",
    "\"\"\"\n",
    "\n",
    "CODEn=\"\"\"\n",
    "@njit\n",
    "def hh(A,Y_prediction):\n",
    "    Y_prediction=(A >0.5).astype(np.int_)\n",
    "hh(A,Y_prediction)\n",
    "\"\"\"\n"
   ]
  },
  {
   "cell_type": "code",
   "execution_count": 9,
   "metadata": {},
   "outputs": [
    {
     "name": "stdout",
     "output_type": "stream",
     "text": [
      "Time coden: [9.514875799999999]\n",
      "Time coden: 9.514875799999999\n"
     ]
    }
   ],
   "source": [
    "time_coden = timeit.repeat(setup=SETUP_CODE, stmt=CODEn, repeat=1, number=100)\n",
    "print(f\"Time coden: {time_coden}\")\n",
    "print(f\"Time coden: {min(time_coden)}\")"
   ]
  },
  {
   "cell_type": "code",
   "execution_count": null,
   "metadata": {},
   "outputs": [],
   "source": []
  }
 ],
 "metadata": {
  "kernelspec": {
   "display_name": "myenv",
   "language": "python",
   "name": "python3"
  },
  "language_info": {
   "codemirror_mode": {
    "name": "ipython",
    "version": 3
   },
   "file_extension": ".py",
   "mimetype": "text/x-python",
   "name": "python",
   "nbconvert_exporter": "python",
   "pygments_lexer": "ipython3",
   "version": "3.9.19"
  }
 },
 "nbformat": 4,
 "nbformat_minor": 2
}
