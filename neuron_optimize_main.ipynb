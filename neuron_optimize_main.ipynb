{
 "cells": [
  {
   "cell_type": "code",
   "execution_count": 1,
   "metadata": {},
   "outputs": [],
   "source": [
    "!rmdir /s /q __pycache__\n",
    "import timeit"
   ]
  },
  {
   "cell_type": "code",
   "execution_count": 2,
   "metadata": {},
   "outputs": [],
   "source": [
    "SETUP_CODE=\"\"\"\n",
    "from neuron_optimize_functions import load_dataset, preprocess_data, logistic_regression, epoch_2for, epoch_for, epoch\n",
    "from neuron_optimize_functions import logistic_regression_numba, epoch_numba\n",
    "trainX, trainY, testX, testY, classes = load_dataset()\n",
    "trainX, testX = preprocess_data(trainX, testX)\n",
    "\"\"\"\n",
    "UNOPTIMIZED_CODE=\"\"\"\n",
    "model = logistic_regression(trainX, trainY, num_epochs = 2000, learning_rate = 0.005, print_cost = False, epoch_fun=epoch_2for)\n",
    "\"\"\"\n",
    "\n",
    "PARTIAL_OPTIMIZED_CODE=\"\"\"\n",
    "model = logistic_regression(trainX, trainY, num_epochs = 2000, learning_rate = 0.005, print_cost = False, epoch_fun=epoch_for)\n",
    "\"\"\"\n",
    "\n",
    "NUMPY_OPTIMIZED_CODE=\"\"\"\n",
    "model = logistic_regression(trainX, trainY, num_epochs = 2000, learning_rate = 0.005, print_cost = False, epoch_fun=epoch)\n",
    "\"\"\"\n",
    "\n",
    "NUMBA_OPTIMIZED_CODE=\"\"\"\n",
    "model = logistic_regression_numba(trainX, trainY, num_epochs = 2000, learning_rate = 0.005, print_cost = False, epoch_fun=epoch_numba)\n",
    "\"\"\""
   ]
  },
  {
   "cell_type": "code",
   "execution_count": 4,
   "metadata": {},
   "outputs": [
    {
     "name": "stdout",
     "output_type": "stream",
     "text": [
      "Time unoptimized code: 2268.9300732\n"
     ]
    }
   ],
   "source": [
    "time_unopt = timeit.repeat(setup=SETUP_CODE, stmt=UNOPTIMIZED_CODE, repeat=1, number=1)\n",
    "print(f\"Time unoptimized code: {min(time_unopt)}\")"
   ]
  },
  {
   "cell_type": "code",
   "execution_count": 3,
   "metadata": {},
   "outputs": [
    {
     "name": "stdout",
     "output_type": "stream",
     "text": [
      "Time partially optimized code: 26.151760330000002\n",
      "Time numpy optimized code: 5.852989080000009\n",
      "Time numba optimized code: 5.307800310000005\n"
     ]
    }
   ],
   "source": [
    "n=10 # number of executions\n",
    "r=2 # number of repetitions\n",
    "time_part_opt = timeit.repeat(setup=SETUP_CODE, stmt=PARTIAL_OPTIMIZED_CODE, repeat=r, number=n)\n",
    "time_np_opt = timeit.repeat(setup=SETUP_CODE, stmt=NUMPY_OPTIMIZED_CODE, repeat=r, number=n)\n",
    "time_numba_opt = timeit.repeat(setup=SETUP_CODE, stmt=NUMBA_OPTIMIZED_CODE, repeat=r, number=n)\n",
    "\n",
    "print(f\"Time partially optimized code: {min(time_part_opt)/n}\")\n",
    "print(f\"Time numpy optimized code: {min(time_np_opt)/n}\")\n",
    "print(f\"Time numba optimized code: {min(time_numba_opt)/n}\")"
   ]
  },
  {
   "cell_type": "code",
   "execution_count": 5,
   "metadata": {},
   "outputs": [
    {
     "name": "stdout",
     "output_type": "stream",
     "text": [
      "Repetitions of partially optimized code time: [38.46169762 26.15176033]\n",
      "Repetitions of numpy optimized code time: [5.85914433 5.85298908]\n",
      "Repetitions of numba optimized code time: [5.75257455 5.30780031]\n"
     ]
    }
   ],
   "source": [
    "import numpy as np\n",
    "print(f\"Repetitions of partially optimized code time: {np.array(time_part_opt)/n}\")\n",
    "print(f\"Repetitions of numpy optimized code time: {np.array(time_np_opt)/n}\")\n",
    "print(f\"Repetitions of numba optimized code time: {np.array(time_numba_opt)/n}\")"
   ]
  }
 ],
 "metadata": {
  "kernelspec": {
   "display_name": "myenv",
   "language": "python",
   "name": "python3"
  },
  "language_info": {
   "codemirror_mode": {
    "name": "ipython",
    "version": 3
   },
   "file_extension": ".py",
   "mimetype": "text/x-python",
   "name": "python",
   "nbconvert_exporter": "python",
   "pygments_lexer": "ipython3",
   "version": "3.9.19"
  }
 },
 "nbformat": 4,
 "nbformat_minor": 2
}
